{
 "cells": [
  {
   "cell_type": "markdown",
   "metadata": {},
   "source": [
    "Даны три множества a,b и с. Необходимо выполнить все изученные виды бинарных операций над всеми комбинациями множеств.\n",
    "*Выполнить задание 1 на языке Python"
   ]
  },
  {
   "cell_type": "code",
   "execution_count": 28,
   "metadata": {},
   "outputs": [],
   "source": [
    "a = set('12579')\n",
    "b = set('2469')\n",
    "c = {()}\n",
    "\n",
    "aub = a.union(b) # bua = b.union(a)\n",
    "auc = a.union(c) # cua = c.union(a)\n",
    "aib = a.intersection(b) # bia = b.intersection(a)\n",
    "aic = a.intersection(c) # cia = c.intersection(a)\n",
    "adb = a.difference(b)\n",
    "adc = a.difference(c)\n",
    "asdb = a.symmetric_difference(b) # bsda = b.symmetric_difference(a)\n",
    "asdc = a.symmetric_difference(c) # csda = c.symmertic_difference(a)\n",
    "bda = b.difference(a)\n",
    "buc = b.union(c) #cub = c.union(b)\n",
    "bic = b.intersection(c) # cib = c.intersection(b)\n",
    "bdc = b.difference(c)\n",
    "bsdc = b.symmetric_difference(c) # csdb = c.symmetric_difference(b)\n",
    "cda = c.difference(a)\n",
    "cdb = c.difference(b)"
   ]
  },
  {
   "cell_type": "markdown",
   "metadata": {},
   "source": [
    "*На языке Python предложить алгоритм вычисляющий численно предел с точностью..."
   ]
  },
  {
   "cell_type": "code",
   "execution_count": 38,
   "metadata": {},
   "outputs": [],
   "source": [
    "import numpy as np\n",
    "from scipy.misc import factorial"
   ]
  },
  {
   "cell_type": "code",
   "execution_count": 39,
   "metadata": {},
   "outputs": [
    {
     "name": "stdout",
     "output_type": "stream",
     "text": [
      "0.43732901244250655\n"
     ]
    }
   ],
   "source": [
    "def f(n):\n",
    "    return n/np.exp((math.factorial(n)**(1/n)))\n",
    "\n",
    "acc = 0.0000001\n",
    "i = 2\n",
    "while f(i) - f(i - 1) > acc:\n",
    "    i = i + 1\n",
    "print(f(i))"
   ]
  },
  {
   "cell_type": "code",
   "execution_count": null,
   "metadata": {},
   "outputs": [],
   "source": []
  }
 ],
 "metadata": {
  "kernelspec": {
   "display_name": "Python 3",
   "language": "python",
   "name": "python3"
  },
  "language_info": {
   "codemirror_mode": {
    "name": "ipython",
    "version": 3
   },
   "file_extension": ".py",
   "mimetype": "text/x-python",
   "name": "python",
   "nbconvert_exporter": "python",
   "pygments_lexer": "ipython3",
   "version": "3.7.3"
  }
 },
 "nbformat": 4,
 "nbformat_minor": 2
}
