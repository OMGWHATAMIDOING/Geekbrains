{
 "cells": [
  {
   "cell_type": "code",
   "execution_count": 1,
   "metadata": {},
   "outputs": [],
   "source": [
    "import numpy as np"
   ]
  },
  {
   "cell_type": "markdown",
   "metadata": {},
   "source": [
    "Задача 1\n",
    "Контрольная работа состоит из пяти вопросов. На каждый вопрос приведено четыре варианта ответа, один из которых правильный. Составьте закон распределения числа правильных ответов при простом угадывании. Найдите M(X), D(X)."
   ]
  },
  {
   "cell_type": "markdown",
   "metadata": {},
   "source": [
    "<table border=\"3\">\n",
    "<tr><th>**X**</th><td>0</td><td>1</td><td>2</td><td>3</td><td>4</td><td>5</td></tr>\n",
    "<tr><th>**p**</th><td>0.237</td><td>0.396</td><td>0.264</td><td>0.088</td><td>0.015</td><td>0.001</td></tr>\n",
    "</table>"
   ]
  },
  {
   "cell_type": "markdown",
   "metadata": {},
   "source": [
    "$$p(k=0) = C_n^kp^kq^{n-k} = C_0^5p^0q^5 = \\frac{5!}{0!(5-3)!} \\cdot 0.25^0 \\cdot 0.75^5 = 0.237$$\n",
    "$$p(k=1) = C_n^kp^kq^{n-k} = C_1^5p^1q^4 = \\frac{5!}{1!(5-3)!} \\cdot 0.25^1 \\cdot 0.75^4 = 0.396$$\n",
    "$$p(k=2) = C_n^kp^kq^{n-k} = C_2^5p^2q^3 = \\frac{5!}{2!(5-3)!} \\cdot 0.25^2 \\cdot 0.75^3 = 0.264$$\n",
    "$$p(k=3) = C_n^kp^kq^{n-k} = C_3^5p^3q^2 = \\frac{5!}{3!(5-3)!} \\cdot 0.25^3 \\cdot 0.75^2 = 0.088$$\n",
    "$$p(k=4) = C_n^kp^kq^{n-k} = C_4^5p^4q^1 = \\frac{5!}{4!(5-3)!} \\cdot 0.25^4 \\cdot 0.75^1 = 0.015$$\n",
    "$$p(k=5) = C_n^kp^kq^{n-k} = C_5^5p^5q^0 = \\frac{5!}{5!(5-3)!} \\cdot 0.25^5 \\cdot 0.75^0 = 0.001$$"
   ]
  },
  {
   "cell_type": "markdown",
   "metadata": {},
   "source": [
    "$$M(X) = np = 5 \\cdot 0.25 = 1.25$$"
   ]
  },
  {
   "cell_type": "markdown",
   "metadata": {},
   "source": [
    "$$D(X) = npq = 5 \\cdot 0.25 \\cdot 0.75 = 0.9375$$"
   ]
  },
  {
   "cell_type": "markdown",
   "metadata": {},
   "source": [
    "Задача 2\n",
    "Пользователь получает в среднем 10 писем со спамом на свой почтовый ящик за сутки. Найти число N, такое, что с вероятностью 0.95 пользователь получит не более N писем со спамом за текущий день."
   ]
  },
  {
   "cell_type": "markdown",
   "metadata": {},
   "source": [
    "$$0.95 =  \\displaystyle\\sum_{i = 0}^{N} \\dfrac{10^{i} \\cdot e^{-10}}{i!}$$"
   ]
  },
  {
   "cell_type": "code",
   "execution_count": null,
   "metadata": {},
   "outputs": [],
   "source": [
    "# Что с этим делать дальшше и как получить N я без понятия."
   ]
  },
  {
   "cell_type": "markdown",
   "metadata": {},
   "source": [
    "Задача 3\n",
    "Производятся выстрелы по мишени. Вероятность попадания в мишень при одном выстреле равна 0.01. Сколько выстрелов нужно сделать чтобы быть уверенным с вероятностью 0.9, что хотя бы 6 раз будет совершено попадание?\n",
    "Подсказка. Здесь предстоит немножко покодить."
   ]
  },
  {
   "cell_type": "markdown",
   "metadata": {},
   "source": [
    "$$0.1 =  \\displaystyle\\sum_{i = 0}^{6} \\dfrac{(0.01 \\cdot n )^{i} \\cdot e^{-10}}{i!}$$"
   ]
  },
  {
   "cell_type": "code",
   "execution_count": null,
   "metadata": {},
   "outputs": [],
   "source": [
    "# То же самое. Формула какая-то такая (наверное), как из неё вытащить решение я не знаю.\n",
    "# n - количество испытаний."
   ]
  }
 ],
 "metadata": {
  "kernelspec": {
   "display_name": "Python 3",
   "language": "python",
   "name": "python3"
  },
  "language_info": {
   "codemirror_mode": {
    "name": "ipython",
    "version": 3
   },
   "file_extension": ".py",
   "mimetype": "text/x-python",
   "name": "python",
   "nbconvert_exporter": "python",
   "pygments_lexer": "ipython3",
   "version": "3.7.3"
  }
 },
 "nbformat": 4,
 "nbformat_minor": 2
}
